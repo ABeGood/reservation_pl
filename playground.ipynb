{
 "cells": [
  {
   "cell_type": "code",
   "execution_count": 2,
   "id": "1c631e13",
   "metadata": {},
   "outputs": [
    {
     "name": "stdout",
     "output_type": "stream",
     "text": [
      "{}\n"
     ]
    }
   ],
   "source": [
    "import requests\n",
    "\n",
    "session = requests.Session()\n",
    "\n",
    "# Initial page load to get cookies\n",
    "r = session.get('https://olsztyn.uw.gov.pl/wizytakartapolaka/pokoj_A1.php')\n",
    "\n",
    "print(session.cookies.get_dict())  # should include PHPSESSID\n",
    "\n",
    "# # Now subsequent requests will send the PHPSESSID automatically\n",
    "# response = session.post('https://olsztyn.uw.gov.pl/wizytakartapolaka/send.php', data=payload)\n",
    "\n",
    "# print(response.status_code, response.text)\n"
   ]
  },
  {
   "cell_type": "code",
   "execution_count": 3,
   "id": "b4c71a19",
   "metadata": {},
   "outputs": [
    {
     "name": "stdout",
     "output_type": "stream",
     "text": [
      "Status: 200\n",
      "Set-Cookie headers: None\n",
      "Cookies in session: {}\n"
     ]
    }
   ],
   "source": [
    "session = requests.Session()\n",
    "\n",
    "url = 'https://olsztyn.uw.gov.pl/wizytakartapolaka/pokoj_A1.php'\n",
    "r = session.get(url, allow_redirects=True)\n",
    "\n",
    "print(\"Status:\", r.status_code)\n",
    "print(\"Set-Cookie headers:\", r.headers.get('Set-Cookie'))\n",
    "print(\"Cookies in session:\", session.cookies.get_dict())"
   ]
  },
  {
   "cell_type": "code",
   "execution_count": 4,
   "id": "98fcf021",
   "metadata": {},
   "outputs": [
    {
     "name": "stdout",
     "output_type": "stream",
     "text": [
      "{'PHPSESSID': 'bed058162354932cac62c786f2d908ac'}\n"
     ]
    }
   ],
   "source": [
    "session.get('https://olsztyn.uw.gov.pl/wizytakartapolaka/securimage/securimage_show.php')\n",
    "print(session.cookies.get_dict())  # Now should contain PHPSESSID"
   ]
  }
 ],
 "metadata": {
  "kernelspec": {
   "display_name": ".venv",
   "language": "python",
   "name": "python3"
  },
  "language_info": {
   "codemirror_mode": {
    "name": "ipython",
    "version": 3
   },
   "file_extension": ".py",
   "mimetype": "text/x-python",
   "name": "python",
   "nbconvert_exporter": "python",
   "pygments_lexer": "ipython3",
   "version": "3.12.0"
  }
 },
 "nbformat": 4,
 "nbformat_minor": 5
}
